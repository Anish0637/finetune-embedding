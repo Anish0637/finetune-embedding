{
 "cells": [
  {
   "cell_type": "markdown",
   "id": "d523d536-2b6b-4f06-8f37-33c8c430bafd",
   "metadata": {},
   "source": [
    "# Evaluate"
   ]
  },
  {
   "cell_type": "code",
   "execution_count": 7,
   "id": "1bf9da71-316a-4c9f-80e9-396d0d6c4617",
   "metadata": {},
   "outputs": [],
   "source": [
    "import json\n",
    "\n",
    "from sentence_transformers.evaluation import InformationRetrievalEvaluator\n",
    "from sentence_transformers import SentenceTransformer"
   ]
  },
  {
   "cell_type": "code",
   "execution_count": 16,
   "id": "0eb042f6-e366-45ce-8b71-73acd4727a91",
   "metadata": {},
   "outputs": [],
   "source": [
    "TRAIN_DATASET_FPATH = './train_dataset.json'\n",
    "VAL_DATASET_FPATH = './val_dataset.json'"
   ]
  },
  {
   "cell_type": "code",
   "execution_count": 17,
   "id": "edd62f3b-95b8-478f-9fdd-bfd6262db273",
   "metadata": {},
   "outputs": [],
   "source": [
    "with open(TRAIN_DATASET_FPATH, 'r+') as f:\n",
    "    train_dataset = json.load(f)\n",
    "\n",
    "with open(VAL_DATASET_FPATH, 'r+') as f:\n",
    "    val_dataset = json.load(f)"
   ]
  },
  {
   "cell_type": "code",
   "execution_count": 20,
   "id": "51efa1de-eb4e-48e5-9141-49466b6e89a1",
   "metadata": {},
   "outputs": [],
   "source": [
    "dataset = train_dataset\n",
    "\n",
    "corpus = dataset['corpus']\n",
    "queries = dataset['queries']\n",
    "relevant_docs = dataset['relevant_docs']\n",
    "\n",
    "eval = InformationRetrievalEvaluator(queries, corpus, relevant_docs)"
   ]
  },
  {
   "cell_type": "markdown",
   "id": "e7851da8-869d-4460-960b-750d149f03bf",
   "metadata": {},
   "source": [
    "### Pretrained"
   ]
  },
  {
   "cell_type": "code",
   "execution_count": 21,
   "id": "cc3ab369-6d15-4b0d-b614-dd0eff23a328",
   "metadata": {},
   "outputs": [],
   "source": [
    "model_id = \"BAAI/bge-small-en\"\n",
    "model = SentenceTransformer(model_id)"
   ]
  },
  {
   "cell_type": "code",
   "execution_count": 22,
   "id": "20b5184f-0515-4af5-8f41-a0c157e405e7",
   "metadata": {},
   "outputs": [
    {
     "data": {
      "text/plain": [
       "0.6186729467661173"
      ]
     },
     "execution_count": 22,
     "metadata": {},
     "output_type": "execute_result"
    }
   ],
   "source": [
    "eval(model)"
   ]
  },
  {
   "cell_type": "markdown",
   "id": "40139062-7d66-40ac-91cd-038a6108b10d",
   "metadata": {},
   "source": [
    "### Fine-tuned"
   ]
  },
  {
   "cell_type": "code",
   "execution_count": 23,
   "id": "3a11441f-7432-4177-9f8d-71516ffa5eba",
   "metadata": {},
   "outputs": [],
   "source": [
    "from sentence_transformers import SentenceTransformer\n",
    "fine_tuned = SentenceTransformer('./test_ckpt')"
   ]
  },
  {
   "cell_type": "code",
   "execution_count": null,
   "id": "29d58d3b-058f-4ff2-8a40-108eec29762d",
   "metadata": {},
   "outputs": [],
   "source": [
    "eval(model)"
   ]
  }
 ],
 "metadata": {
  "kernelspec": {
   "display_name": "Python 3 (ipykernel)",
   "language": "python",
   "name": "python3"
  },
  "language_info": {
   "codemirror_mode": {
    "name": "ipython",
    "version": 3
   },
   "file_extension": ".py",
   "mimetype": "text/x-python",
   "name": "python",
   "nbconvert_exporter": "python",
   "pygments_lexer": "ipython3",
   "version": "3.8.17"
  }
 },
 "nbformat": 4,
 "nbformat_minor": 5
}
