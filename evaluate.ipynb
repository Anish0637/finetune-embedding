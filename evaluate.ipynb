{
 "cells": [
  {
   "cell_type": "markdown",
   "id": "86fe17dc-eaca-49ae-81b8-8c372bff4fb8",
   "metadata": {},
   "source": [
    "# Evaluate"
   ]
  },
  {
   "cell_type": "code",
   "execution_count": 6,
   "id": "3f249133-d7ca-42e8-ad41-c5ef8fe5849b",
   "metadata": {},
   "outputs": [],
   "source": [
    "import json"
   ]
  },
  {
   "cell_type": "code",
   "execution_count": 4,
   "id": "e73cb5c7-a71c-4e70-ba24-ce196e7177af",
   "metadata": {},
   "outputs": [],
   "source": [
    "TRAIN_CORPUS_FPATH = './train_corpus.json'\n",
    "VAL_CORPUS_FPATH = './val_corpus.json'\n",
    "\n",
    "TRAIN_QUERIES_FPATH = './train_queries.json'\n",
    "TRAIN_RELEVANT_DOCS_FPATH = './train_relevant_docs.json'\n",
    "\n",
    "VAL_QUERIES_FPATH = './val_queries.json'\n",
    "VAL_RELEVANT_DOCS_FPATH = './val_relevant_docs.json'"
   ]
  },
  {
   "cell_type": "code",
   "execution_count": 8,
   "id": "f5a85bae-0f40-4d24-b96f-a5f884893310",
   "metadata": {},
   "outputs": [],
   "source": [
    "with open(TRAIN_CORPUS_FPATH, 'r+') as f:\n",
    "    train_corpus = json.load(f)\n",
    "\n",
    "with open(TRAIN_QUERIES_FPATH, 'r+') as f:\n",
    "    train_queries = json.load(f)\n",
    "\n",
    "with open(TRAIN_RELEVANT_DOCS_FPATH, 'r+') as f:\n",
    "    train_relevant_docs = json.load(f)\n",
    "\n",
    "# with open(VAL_QUERIES_FPATH, 'w+') as f:\n",
    "#     json.dump(val_queries, f)\n",
    "\n",
    "# with open(VAL_RELEVANT_DOCS_FPATH, 'w+') as f:\n",
    "#     json.dump(val_relevant_docs, f)"
   ]
  },
  {
   "cell_type": "code",
   "execution_count": 41,
   "id": "3f252582-3f58-492f-950c-671e59bc5bcd",
   "metadata": {},
   "outputs": [],
   "source": [
    "from tqdm.notebook import tqdm\n",
    "import pandas as pd\n",
    "\n",
    "from llama_index import ServiceContext, VectorStoreIndex\n",
    "from llama_index.schema import TextNode\n",
    "from llama_index.embeddings import OpenAIEmbedding"
   ]
  },
  {
   "cell_type": "code",
   "execution_count": 37,
   "id": "75e79771-fe51-44a0-807f-ee9697064ef6",
   "metadata": {},
   "outputs": [],
   "source": [
    "def evaluate(\n",
    "    corpus, \n",
    "    queries, \n",
    "    relevant_docs, \n",
    "    embed_model,\n",
    "    top_k=5,\n",
    "    verbose=False,\n",
    "):\n",
    "    service_context = ServiceContext.from_defaults(embed_model=embed_model)\n",
    "    nodes = [TextNode(id_=id_, text=text) for id_, text in corpus.items()] \n",
    "    index = VectorStoreIndex(\n",
    "        nodes, \n",
    "        service_context=service_context, \n",
    "        show_progress=True\n",
    "    )\n",
    "    retriever = index.as_retriever(similarity_top_k=top_k)\n",
    "\n",
    "    eval_results = []\n",
    "    for query in tqdm(queries):\n",
    "        retrieved_nodes = retriever.retrieve(query)\n",
    "        retrieved_ids = [node.node.node_id for node in retrieved_nodes]\n",
    "        expected_id = relevant_docs[query][0]\n",
    "        is_hit = expected_id in retrieved_ids  # assume 1 relevant doc\n",
    "        \n",
    "        eval_result = {\n",
    "            'is_hit': is_hit,\n",
    "            'retrieved': retrieved_ids,\n",
    "            'expected': expected_id,\n",
    "        }\n",
    "        eval_results.append(eval_result)\n",
    "    return eval_results"
   ]
  },
  {
   "cell_type": "markdown",
   "id": "c62183ec-ac63-4efc-9b9d-9a4c091bee22",
   "metadata": {},
   "source": [
    "### OpenAI"
   ]
  },
  {
   "cell_type": "code",
   "execution_count": 38,
   "id": "4aa63f1f-0d8d-4533-bc40-d7791c523bf7",
   "metadata": {},
   "outputs": [
    {
     "data": {
      "application/vnd.jupyter.widget-view+json": {
       "model_id": "02835982bf7d4aab96fb464b6798dad6",
       "version_major": 2,
       "version_minor": 0
      },
      "text/plain": [
       "Generating embeddings:   0%|          | 0/334 [00:00<?, ?it/s]"
      ]
     },
     "metadata": {},
     "output_type": "display_data"
    },
    {
     "data": {
      "application/vnd.jupyter.widget-view+json": {
       "model_id": "d3632ca28ffa47ff97fe532a81a5efbf",
       "version_major": 2,
       "version_minor": 0
      },
      "text/plain": [
       "  0%|          | 0/668 [00:00<?, ?it/s]"
      ]
     },
     "metadata": {},
     "output_type": "display_data"
    }
   ],
   "source": [
    "ada = OpenAIEmbedding()\n",
    "train_results = evaluate(train_corpus, train_queries, train_relevant_docs, ada)"
   ]
  },
  {
   "cell_type": "code",
   "execution_count": 57,
   "id": "3cebfdf9-4d7b-417a-95df-01fcc5ac6589",
   "metadata": {},
   "outputs": [],
   "source": [
    "df = pd.DataFrame(train_results)"
   ]
  },
  {
   "cell_type": "code",
   "execution_count": 78,
   "id": "20980c2f-c4ca-44f3-9c96-b5cef61c4f2c",
   "metadata": {},
   "outputs": [
    {
     "data": {
      "text/plain": [
       "0.016467065868263474"
      ]
     },
     "execution_count": 78,
     "metadata": {},
     "output_type": "execute_result"
    }
   ],
   "source": [
    "hit_rate = df['is_hit'].mean()\n",
    "hit_rate"
   ]
  },
  {
   "cell_type": "markdown",
   "id": "9b63f51d-3bf9-4360-8ff8-fd2593ea7eb5",
   "metadata": {},
   "source": [
    "### BAAI/bge-small-en"
   ]
  },
  {
   "cell_type": "code",
   "execution_count": 85,
   "id": "7d33e9fe-cddf-44f2-a300-ebe5dbf1dec8",
   "metadata": {
    "scrolled": true
   },
   "outputs": [
    {
     "data": {
      "application/vnd.jupyter.widget-view+json": {
       "model_id": "89ee0cf4a0754ca988d264a38884f036",
       "version_major": 2,
       "version_minor": 0
      },
      "text/plain": [
       "Generating embeddings:   0%|          | 0/334 [00:00<?, ?it/s]"
      ]
     },
     "metadata": {},
     "output_type": "display_data"
    },
    {
     "data": {
      "application/vnd.jupyter.widget-view+json": {
       "model_id": "b3550273c2c64a64825777a9ac932d7f",
       "version_major": 2,
       "version_minor": 0
      },
      "text/plain": [
       "  0%|          | 0/668 [00:00<?, ?it/s]"
      ]
     },
     "metadata": {},
     "output_type": "display_data"
    }
   ],
   "source": [
    "bge = \"local:BAAI/bge-small-en\"\n",
    "train_results = evaluate(train_corpus, train_queries, train_relevant_docs, bge, top_k=10)"
   ]
  },
  {
   "cell_type": "code",
   "execution_count": 88,
   "id": "8e633ef4-4681-45bf-9712-ef6abbc1769d",
   "metadata": {},
   "outputs": [],
   "source": [
    "df = pd.DataFrame(train_results)"
   ]
  },
  {
   "cell_type": "code",
   "execution_count": 89,
   "id": "8fb28364-ffa3-49af-b140-ffc8430756a4",
   "metadata": {},
   "outputs": [
    {
     "data": {
      "text/plain": [
       "0.03592814371257485"
      ]
     },
     "execution_count": 89,
     "metadata": {},
     "output_type": "execute_result"
    }
   ],
   "source": [
    "hit_rate = df['is_hit'].mean()\n",
    "hit_rate"
   ]
  },
  {
   "cell_type": "markdown",
   "id": "2debfccd-542b-42b7-a603-4b4272435130",
   "metadata": {},
   "source": [
    "## Results"
   ]
  },
  {
   "cell_type": "markdown",
   "id": "8523bb0b-5f8f-40e9-9078-71409a68ed78",
   "metadata": {},
   "source": [
    "### Default chunk size + top-k=10\n",
    "OpenAI: 192  \n",
    "local: 161  \n",
    "local:BAAI/bge-small-en : 175  \n",
    "\n",
    "### Default chunk size + top-k=5\n",
    "OpenAI: 184  \n",
    "local: 137 \n",
    "local:BAAI/bge-small-en : 158 "
   ]
  },
  {
   "cell_type": "code",
   "execution_count": null,
   "id": "075592bb-b1a8-4713-a4c0-c28618960b8a",
   "metadata": {},
   "outputs": [],
   "source": []
  }
 ],
 "metadata": {
  "kernelspec": {
   "display_name": "Python 3 (ipykernel)",
   "language": "python",
   "name": "python3"
  },
  "language_info": {
   "codemirror_mode": {
    "name": "ipython",
    "version": 3
   },
   "file_extension": ".py",
   "mimetype": "text/x-python",
   "name": "python",
   "nbconvert_exporter": "python",
   "pygments_lexer": "ipython3",
   "version": "3.8.17"
  }
 },
 "nbformat": 4,
 "nbformat_minor": 5
}
