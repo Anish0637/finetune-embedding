{
 "cells": [
  {
   "cell_type": "markdown",
   "id": "5d28930a-8b8b-44e6-8097-c99375bf37c9",
   "metadata": {},
   "source": [
    "# Fine tuning"
   ]
  },
  {
   "cell_type": "markdown",
   "id": "6340211a-db64-458f-b3fb-4b87f09ab743",
   "metadata": {},
   "source": [
    "### Load pretrained model"
   ]
  },
  {
   "cell_type": "code",
   "execution_count": 52,
   "id": "70df8f69-9d40-4467-9755-5582b4ca5178",
   "metadata": {
    "tags": []
   },
   "outputs": [],
   "source": [
    "from sentence_transformers import SentenceTransformer\n",
    "\n",
    "model_id = \"BAAI/bge-small-en\"\n",
    "pretrained_model = SentenceTransformer(model_id)"
   ]
  },
  {
   "cell_type": "code",
   "execution_count": 53,
   "id": "3502aaba-3e8a-42a6-9665-9d59304e798b",
   "metadata": {
    "tags": []
   },
   "outputs": [
    {
     "data": {
      "text/plain": [
       "SentenceTransformer(\n",
       "  (0): Transformer({'max_seq_length': 512, 'do_lower_case': True}) with Transformer model: BertModel \n",
       "  (1): Pooling({'word_embedding_dimension': 384, 'pooling_mode_cls_token': True, 'pooling_mode_mean_tokens': False, 'pooling_mode_max_tokens': False, 'pooling_mode_mean_sqrt_len_tokens': False})\n",
       ")"
      ]
     },
     "execution_count": 53,
     "metadata": {},
     "output_type": "execute_result"
    }
   ],
   "source": [
    "pretrained_model"
   ]
  },
  {
   "cell_type": "markdown",
   "id": "97fd0ab4-6687-4b54-aff7-b30aa96f3698",
   "metadata": {},
   "source": [
    "### Load data"
   ]
  },
  {
   "cell_type": "code",
   "execution_count": 28,
   "id": "e26aa72e-c158-4d6c-862f-bb555e5e456d",
   "metadata": {},
   "outputs": [],
   "source": [
    "import pickle"
   ]
  },
  {
   "cell_type": "code",
   "execution_count": 29,
   "id": "2713df64-b708-48f9-8a0a-505ee24ec381",
   "metadata": {},
   "outputs": [],
   "source": [
    "with open('./dataset.pkl', 'rb') as f:\n",
    "    dataset = pickle.load(f) "
   ]
  },
  {
   "cell_type": "code",
   "execution_count": 48,
   "id": "f07e006a-9a08-4961-b639-66a7a65bc603",
   "metadata": {},
   "outputs": [],
   "source": [
    "examples = []\n",
    "for data in dataset:\n",
    "    question = data['question']\n",
    "    text = data['text']\n",
    "    example = InputExample(texts=[question, text])\n",
    "    examples.append(example)"
   ]
  },
  {
   "cell_type": "code",
   "execution_count": 58,
   "id": "b7b7f2f2-0012-4ec7-8f44-1909d42c84b7",
   "metadata": {},
   "outputs": [],
   "source": [
    "# from sentence_transformers import datasets\n",
    "from torch.utils.data import DataLoader\n",
    "\n",
    "batch_size = 10\n",
    "\n",
    "loader = DataLoader(\n",
    "    examples, batch_size=batch_size\n",
    ")"
   ]
  },
  {
   "cell_type": "markdown",
   "id": "ee8acef2-8618-4afa-84e0-cd959d181208",
   "metadata": {},
   "source": [
    "### Define loss"
   ]
  },
  {
   "cell_type": "code",
   "execution_count": 59,
   "id": "928eec1f-0f47-4bac-9189-7b791e81024d",
   "metadata": {},
   "outputs": [],
   "source": [
    "from sentence_transformers import losses\n",
    "\n",
    "loss = losses.MultipleNegativesRankingLoss(model)"
   ]
  },
  {
   "cell_type": "markdown",
   "id": "de5deb95-6d9a-4da8-ba46-f0317b12d6df",
   "metadata": {},
   "source": [
    "### Train loop"
   ]
  },
  {
   "cell_type": "code",
   "execution_count": 60,
   "id": "f3b6afdf-87d6-40be-b6fd-36f89dbb3612",
   "metadata": {},
   "outputs": [
    {
     "data": {
      "application/vnd.jupyter.widget-view+json": {
       "model_id": "8d48194027b7436a82891df8e80c5d3d",
       "version_major": 2,
       "version_minor": 0
      },
      "text/plain": [
       "Epoch:   0%|          | 0/1 [00:00<?, ?it/s]"
      ]
     },
     "metadata": {},
     "output_type": "display_data"
    },
    {
     "data": {
      "application/vnd.jupyter.widget-view+json": {
       "model_id": "1edfd5c866cf4d26a15dc1be9f70f35f",
       "version_major": 2,
       "version_minor": 0
      },
      "text/plain": [
       "Iteration:   0%|          | 0/20 [00:00<?, ?it/s]"
      ]
     },
     "metadata": {},
     "output_type": "display_data"
    }
   ],
   "source": [
    "epochs = 1\n",
    "warmup_steps = int(len(loader) * epochs * 0.1)\n",
    "\n",
    "model.fit(\n",
    "    train_objectives=[(loader, loss)],\n",
    "    epochs=epochs,\n",
    "    warmup_steps=warmup_steps,\n",
    "    output_path='mpnet-mnr-squad2',\n",
    "    show_progress_bar=True\n",
    ")"
   ]
  },
  {
   "cell_type": "markdown",
   "id": "b33b31c5-e84c-43d0-b381-b0b438ba7257",
   "metadata": {},
   "source": [
    "### Load local trained model"
   ]
  },
  {
   "cell_type": "code",
   "execution_count": 54,
   "id": "1fe55b25-0777-40d6-89b9-31bc54da62d0",
   "metadata": {},
   "outputs": [],
   "source": [
    "from sentence_transformers import SentenceTransformer\n",
    "model = SentenceTransformer('./test_ckpt')"
   ]
  },
  {
   "cell_type": "markdown",
   "id": "628f0a30-9498-488b-96b5-bd1b963afd75",
   "metadata": {},
   "source": [
    "### Evaluate"
   ]
  },
  {
   "cell_type": "code",
   "execution_count": 41,
   "id": "4fd7ae9b-e375-4b6e-8fbe-1b7d0891f817",
   "metadata": {
    "tags": []
   },
   "outputs": [],
   "source": [
    "import pickle"
   ]
  },
  {
   "cell_type": "code",
   "execution_count": 42,
   "id": "c9d6adc2-751f-4724-bc22-40be5a541ccb",
   "metadata": {},
   "outputs": [],
   "source": [
    "with open('./nodes_pojo_test.pkl', 'rb') as f:\n",
    "    nodes = pickle.load(f) "
   ]
  },
  {
   "cell_type": "code",
   "execution_count": 44,
   "id": "9021b6d3-0222-4648-ad86-aa8100a95e62",
   "metadata": {
    "tags": []
   },
   "outputs": [],
   "source": [
    "with open('./dataset_test.pkl', 'rb') as f:\n",
    "    dataset = pickle.load(f) "
   ]
  },
  {
   "cell_type": "code",
   "execution_count": 45,
   "id": "57cea793-0ae1-4009-8df5-9bce3f39548c",
   "metadata": {},
   "outputs": [],
   "source": [
    "queries = {}\n",
    "for id_, data in enumerate(dataset):\n",
    "    queries[id_] = data['question']"
   ]
  },
  {
   "cell_type": "code",
   "execution_count": 46,
   "id": "7eb12a6a-720e-4ce6-b680-388077f15857",
   "metadata": {},
   "outputs": [],
   "source": [
    "corpus = {}\n",
    "for node in nodes:\n",
    "    if isinstance(node, dict):\n",
    "        corpus[node['node_id']] = node['text']"
   ]
  },
  {
   "cell_type": "code",
   "execution_count": 47,
   "id": "3daa579a-65f7-428a-b9ca-0073050cc452",
   "metadata": {},
   "outputs": [],
   "source": [
    "relevant_docs = {}\n",
    "for id_, data in enumerate(dataset):\n",
    "    relevant_docs[id_] = [data['node_id']]"
   ]
  },
  {
   "cell_type": "code",
   "execution_count": 48,
   "id": "49d94b2e-1bdc-4f1b-a468-fefc764b9e2a",
   "metadata": {},
   "outputs": [],
   "source": [
    "from sentence_transformers.evaluation import InformationRetrievalEvaluator"
   ]
  },
  {
   "cell_type": "code",
   "execution_count": 49,
   "id": "ccf5b257-6880-45bf-8384-cbc6403d260d",
   "metadata": {},
   "outputs": [],
   "source": [
    "eval = InformationRetrievalEvaluator(queries, corpus, relevant_docs)"
   ]
  },
  {
   "cell_type": "code",
   "execution_count": 55,
   "id": "2dcec02e-df58-4b6e-91a1-5da7fb75e4a3",
   "metadata": {},
   "outputs": [
    {
     "data": {
      "text/plain": [
       "0.7280796315117085"
      ]
     },
     "execution_count": 55,
     "metadata": {},
     "output_type": "execute_result"
    }
   ],
   "source": [
    "eval(model)"
   ]
  },
  {
   "cell_type": "code",
   "execution_count": 56,
   "id": "236a72fc-03f0-4544-ba10-e51a3d6932b7",
   "metadata": {},
   "outputs": [
    {
     "data": {
      "text/plain": [
       "0.6919232861022638"
      ]
     },
     "execution_count": 56,
     "metadata": {},
     "output_type": "execute_result"
    }
   ],
   "source": [
    "eval(pretrained_model)"
   ]
  }
 ],
 "metadata": {
  "kernelspec": {
   "display_name": "Python 3 (ipykernel)",
   "language": "python",
   "name": "python3"
  },
  "language_info": {
   "codemirror_mode": {
    "name": "ipython",
    "version": 3
   },
   "file_extension": ".py",
   "mimetype": "text/x-python",
   "name": "python",
   "nbconvert_exporter": "python",
   "pygments_lexer": "ipython3",
   "version": "3.8.17"
  }
 },
 "nbformat": 4,
 "nbformat_minor": 5
}
